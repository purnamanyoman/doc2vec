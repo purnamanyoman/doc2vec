{
 "cells": [
  {
   "cell_type": "code",
   "execution_count": 1,
   "metadata": {},
   "outputs": [],
   "source": [
    "# Import required libraries\n",
    "import pandas as pd\n",
    "import numpy as np\n",
    "import nltk\n",
    "from nltk.tokenize import word_tokenize\n",
    "import unidecode\n",
    "import unicodedata\n",
    "import re\n",
    "import ftfy\n",
    "from gensim.models.doc2vec import LabeledSentence\n",
    "from gensim.models.doc2vec import TaggedDocument\n",
    "from gensim.models import Doc2Vec"
   ]
  },
  {
   "cell_type": "code",
   "execution_count": 64,
   "metadata": {},
   "outputs": [
    {
     "data": {
      "text/html": [
       "<div>\n",
       "<style scoped>\n",
       "    .dataframe tbody tr th:only-of-type {\n",
       "        vertical-align: middle;\n",
       "    }\n",
       "\n",
       "    .dataframe tbody tr th {\n",
       "        vertical-align: top;\n",
       "    }\n",
       "\n",
       "    .dataframe thead th {\n",
       "        text-align: right;\n",
       "    }\n",
       "</style>\n",
       "<table border=\"1\" class=\"dataframe\">\n",
       "  <thead>\n",
       "    <tr style=\"text-align: right;\">\n",
       "      <th></th>\n",
       "      <th>id</th>\n",
       "      <th>text</th>\n",
       "    </tr>\n",
       "  </thead>\n",
       "  <tbody>\n",
       "    <tr>\n",
       "      <td>0</td>\n",
       "      <td>1</td>\n",
       "      <td>and Merger  shall become the debts, liabilitie...</td>\n",
       "    </tr>\n",
       "    <tr>\n",
       "      <td>1</td>\n",
       "      <td>2</td>\n",
       "      <td>The documents incorporated or deemed to be inc...</td>\n",
       "    </tr>\n",
       "    <tr>\n",
       "      <td>2</td>\n",
       "      <td>3</td>\n",
       "      <td>Exhibit 5.1         , Suite 100 ,  89113  Re: ...</td>\n",
       "    </tr>\n",
       "    <tr>\n",
       "      <td>3</td>\n",
       "      <td>4</td>\n",
       "      <td>Merger  in accordance with the  and the D, whe...</td>\n",
       "    </tr>\n",
       "    <tr>\n",
       "      <td>4</td>\n",
       "      <td>5</td>\n",
       "      <td>As of the date hereof and the Closing, the  re...</td>\n",
       "    </tr>\n",
       "  </tbody>\n",
       "</table>\n",
       "</div>"
      ],
      "text/plain": [
       "   id                                               text\n",
       "0   1  and Merger  shall become the debts, liabilitie...\n",
       "1   2  The documents incorporated or deemed to be inc...\n",
       "2   3  Exhibit 5.1         , Suite 100 ,  89113  Re: ...\n",
       "3   4  Merger  in accordance with the  and the D, whe...\n",
       "4   5  As of the date hereof and the Closing, the  re..."
      ]
     },
     "execution_count": 64,
     "metadata": {},
     "output_type": "execute_result"
    }
   ],
   "source": [
    "# Import Data\n",
    "df = pd.read_csv('C:\\\\Users\\\\PRUNEDGE\\\\Downloads\\\\doc_summaries.csv', encoding = 'Windows-1252')\n",
    " \n",
    "# Check for null values\n",
    "df[df.isnull().any(axis=1)]\n",
    " \n",
    "# Drop rows with null Values\n",
    "df.drop(df[df.isnull().any(axis=1)].index,inplace=True)\n",
    "#df.drop(columns = 'id', inplace = True)\n",
    "df.head()"
   ]
  },
  {
   "cell_type": "code",
   "execution_count": 66,
   "metadata": {},
   "outputs": [],
   "source": [
    "df['tag'] = df.index\n",
    "df = df.reset_index()\n",
    "df = df.drop(['index'], axis = 1)"
   ]
  },
  {
   "cell_type": "code",
   "execution_count": 3,
   "metadata": {},
   "outputs": [],
   "source": [
    "df['text'] = df['text'].apply(lambda x: ' '.join([word for word in x.split()])) \n",
    "df['text'] = df['text'].replace(u'\\u201c', '\"').replace(u'\\u201d', '\"')"
   ]
  },
  {
   "cell_type": "code",
   "execution_count": 4,
   "metadata": {},
   "outputs": [],
   "source": [
    "prev = df['text'].values.tolist()\n",
    "\n",
    "processed_features = []\n",
    "for sentence in range(0, len(prev)):\n",
    "    # Remove all the special characters\n",
    "    clean = ftfy.fix_text(str(prev[sentence]), uncurl_quotes = True)\n",
    "    processed_feature = re.sub('[\\W_]+', ' ', clean)\n",
    "     # remove all single characters\n",
    "    processed_feature= re.sub(r'\\s+[a-zA-Z]\\s+', ' ', processed_feature)\n",
    "     # Substituting multiple spaces with single space\n",
    "    processed_feature = re.sub(r'\\s+', ' ', processed_feature, flags=re.I)\n",
    "    #Removing special characters and sequences\n",
    "    processed_feature = re.sub(r'\\“', '', processed_feature)\n",
    "    processed_feature = re.sub(r'\\”', '', processed_feature)\n",
    "    processed_feature = re.sub(r'\\_', '', processed_feature)\n",
    "    processed_feature = re.sub(r\",\", \" \", processed_feature )\n",
    "    processed_feature = re.sub(r\"\\.\", \" \", processed_feature )  \n",
    "    processed_feature = re.sub(r\"!\", \" \", processed_feature )  \n",
    "    processed_feature = re.sub(r\"\\(\", \" ( \", processed_feature )\n",
    "    processed_feature = re.sub(r\"\\)\", \" ) \", processed_feature )\n",
    "    processed_feature = re.sub(r\"\\?\", \" \", processed_feature )\n",
    "    processed_feature = re.sub(r\"\\s{2,}\", \" \", processed_feature )\n",
    "    processed_feature = re.sub(r\"[^A-Za-z0-9(),!.?\\'`\\\"\\“\\”]\", \" \", processed_feature )\n",
    "     # Converting to Lowercase\n",
    "    processed_feature = processed_feature.lower()\n",
    "    processed_features.append(processed_feature)"
   ]
  },
  {
   "cell_type": "code",
   "execution_count": 73,
   "metadata": {},
   "outputs": [],
   "source": [
    "#Creating document list of list   \n",
    "train_docs = list(map(lambda el:[el], processed_features))\n",
    "\n",
    "#Tagging document sentences \n",
    "comp_docs = [TaggedDocument(\n",
    "                words=[word for word in document[0].lower().split()],\n",
    "                tags = [i]\n",
    "            ) for i, document in enumerate(train_docs)]"
   ]
  },
  {
   "cell_type": "code",
   "execution_count": 48,
   "metadata": {},
   "outputs": [
    {
     "name": "stdout",
     "output_type": "stream",
     "text": [
      "Model Saved\n"
     ]
    }
   ],
   "source": [
    "max_epoch = 2\n",
    "vec_size = 20\n",
    "    \n",
    "# Train model\n",
    "model = Doc2Vec(size = vec_size, dm = 0, dbow_words = 1, window = 2, alpha = 0.2)\n",
    "model.build_vocab(comp_docs)\n",
    "for epoch in range(max_epoch):\n",
    "    model.train(comp_docs, total_examples = model.corpus_count, epochs = epoch)\n",
    "    \n",
    "model.save(\"Doc2Vec.model\")\n",
    "print(\"Model Saved\")"
   ]
  },
  {
   "cell_type": "code",
   "execution_count": 78,
   "metadata": {},
   "outputs": [],
   "source": [
    "def build_model(test_doc, compiled_doc):\n",
    "    '''\n",
    "    Parameters\n",
    "    -----------\n",
    "    test_doc: list of lists - one of the sentence lists\n",
    "    compiled_doc: list of lists - combined sentence lists to match the index to the sentence \n",
    "    '''\n",
    "    model= Doc2Vec.load(\"C:/Users/PRUNEDGE/Downloads/tixati/Doc2Vec.model\")\n",
    "    scores = []\n",
    "    #for doc in test_docs:\n",
    "    dd = {}\n",
    "    # Calculate the cosine similarity and return top 25 matches\n",
    "    score = model.docvecs.most_similar([model.infer_vector(test_docs)],topn=25)\n",
    "    key = \" \".join(test_docs)\n",
    "    for i in range(len(score)):\n",
    "    # Get index and score\n",
    "        x, y = score[i]\n",
    "        z = df['id'].loc[df.index == x].values[0]\n",
    "    # Match sentence from other list\n",
    "        nkey = ' '.join(comp_docs[x][0])\n",
    "        dd[z, nkey] = y\n",
    "    scores.append({key:dd})\n",
    "\n",
    "    return scores"
   ]
  },
  {
   "cell_type": "code",
   "execution_count": 75,
   "metadata": {},
   "outputs": [],
   "source": [
    "#Enter test document here \n",
    "test_docs = word_tokenize('authorized to take such actions as instructed by any effective date indenture dated as of among hovnanian enterprises by their acceptance of the notes shall be deemed to have instructed and authorized to take such action as instructed by any effective date grant pari passu on such property to for the benefit of the')"
   ]
  },
  {
   "cell_type": "code",
   "execution_count": 79,
   "metadata": {},
   "outputs": [
    {
     "data": {
      "text/plain": [
       "[{'authorized to take such actions as instructed by any effective date indenture dated as of among hovnanian enterprises by their acceptance of the notes shall be deemed to have instructed and authorized to take such action as instructed by any effective date grant pari passu on such property to for the benefit of the': {(127,\n",
       "    'the are on of each and commencing 00 and ending 5 01 this is of the series of the designated as medium term notes of the and any payment is made to or such other entity as is requested by an authorized representative of any transfer pledge or for the for an shall be business prior to such notice of any redemption will be mailed but not before the applicable to the hereof'): 0.8719031810760498,\n",
       "   (84,\n",
       "    'the or any subsidiary or affiliate 2 by any employee benefit plan or related trust sponsored or maintained by the or any subsidiary or affiliate means the of directors of the provided however that any of the following acquisitions shall not be deemed to be change in 1 by above shall be deemed to be who on the effective date of this constitute the and after change in the board of directors of the surviving corporation'): 0.854044497013092,\n",
       "   (448,\n",
       "    'exhibit 4 springleaf finance corporation as issuer as supplemental indenture dated as of as table of contents page article 1 definitionssection all good will trade names trademarks patents unamortized debt discount and expense and other like intangibles which in each case would be so included on such balance sheet means any event which is or after notice or passage of time or both would be an event of the shall calculate and the shall have no responsibility to verify such amount of any of such or comparable governing body or any committee thereof duly authorized to act on behalf of such'): 0.8515917062759399,\n",
       "   (221,\n",
       "    'upon any selection by of successor equity index the will cause notice to be given to the of this agreement dated as of may18 between the and as amended from time to time in the event that the index sponsor discontinues publication of the index prior to and the discontinuance is continuing on and the calcula and any payment is made to cede co or such other entity as is requested by an authorized representative of any transfer pledge or for the maximum return is of the of this'): 0.8465838432312012,\n",
       "   (370,\n",
       "    'this has been duly and validly executed and delivered by such and constitutes valid and binding agreement of such enforcea the hereby grants to and any designee thereof proxy for the term of this to vote as indicated in sections 3 and above the agrees to enter into this with respect to as defined below held by such the warrants and any shares obtained following the exercise thereof after the execution of this 3 to and approve prior to expiration time'): 0.8424472808837891,\n",
       "   (51,\n",
       "    'the occurrence or existence of any event other than an early closure that materially disrupts or impairs the ability of market particip and any payment is made to or such other entity as is requested by an authorized representative of any transfer pledge or for if the as defined below is postpd will be postpd to the agreement dated as of between the and as amended from time to time the is also subject to postpment due to the occurrence of market disruption event'): 0.8410671949386597,\n",
       "   (69,\n",
       "    'the foregoing notwithstanding it shall not constitute breach of this for the employment of the to terminate in accordance with 6 for purposes of this 2 shall have the meaning ascribed to such term in 9 of the exchange act as supplemented by without cause as defined in 6 or terminates employment for the or any subsidiary of the or ii any employee benefit plan sponsored by the or any subsidiary of the notwithstanding if after the occurrence of potential change in and prior to the occurrence of change in'): 0.83956378698349,\n",
       "   (70,\n",
       "    'the foregoing notwithstanding it shall not constitute breach of this for the employment of the to terminate in accordance with for purposes of this 2 shall have the meaning ascribed to such term in 9 of the exchange act as supplemented by notwithstanding if after the occurrence of potential change in and prior to the occurrence of change in notwithstanding the foregoing the can be amended or modified by written agreement of the parties as set forth in below without cause as defined in 6 or terminates employment for'): 0.8387320041656494,\n",
       "   (88,\n",
       "    'replacement date each as defined below have occurred prior to as defined below in respect of any dete or pursuant to clauses or if the or its designee the designee reasonably determines in good faith that transition event and its'): 0.8323944807052612,\n",
       "   (383,\n",
       "    'the shall be entitled to participate in the benefit plans provided by the for all employees generally and for the executive employees the will comply with the policies regarding these benefits including all rules and requirements professional the effective date whereas the and the entered into an employment the shall be entitled to vacation and in accordance with the policies the maintains from time to time business in such capacity the shall report to the and shall have such powers and responsibilities consistent with his position as may be assigned'): 0.8322113752365112,\n",
       "   (194,\n",
       "    'the deferral election agreement shall designate the amount of deferred by each for the as general deferral ii whether any granted and years of the total number of for which is employed by the sponsor including without limitation service as member of the the separate written agreement submitted to the by which an agrees to participate in the and defer and or the portion of that elects to defer in accordance with and hereof and that is contributed to 1 each shall become on the date his or her initial deferral election agreement becomes effective'): 0.8319920301437378,\n",
       "   (63,\n",
       "    'quoted in writing to the by the reference at on the business day pre ex 4 1exhibit 4 1 as issuer whereas the executed and delivered its original indenture to the to issue from time to time for its lawful purposes debt securities evidencing its indebtedness the will mail notice of such redemption to the registered holders of the to be redeemed not less than nor prior to the which shall be deemed for all purposes under the original indenture'): 0.8297095894813538,\n",
       "   (90,\n",
       "    'the adjusted closing level of the on means the closing level of the on divided by on the closing level of the on the trade date divided by on the trade date rounded to decimal places 2 under the caption or any substitute page at time as determined by and any payment is made to or such other entity as is requested by an authorized representative of any transfer pledge or for if the as defined below is postpd will be postpd to the'): 0.8259578347206116,\n",
       "   (441,\n",
       "    'if the involuntary termination occurs within the month period following change of control then the unvested portion of the will also receive atarget if applicable for of termination prorated for the portion of served assuming achievement payable with the severance payment sign on will receive time signing bonus of the signing less applicable withholdings which will be included with regular paycheck following terminationother than for death or disability or resignation for during if if awarded the target will bepaid prior to the later of'): 0.8259527683258057,\n",
       "   (404,\n",
       "    'for any reason at any time upon the written or oral request of the where such request indicates shares purchasable immediately prior to such exercise under this less the number of shares with respect to which this is exercised through the or shall deliver any objection to on or before the first st following the date on which the or has received in the event of any discrepancy or dispute the records of the and shall be controlling and determinative in the absence of manifest error the agrees to maintain transfer agent that is participant in so long as this remains outstanding and exercisable'): 0.8251639604568481,\n",
       "   (33,\n",
       "    'ii stockholder may authorize another person or persons to act for such stockholder as proxy 10 nor sixty before the date of the meeting to each stockholder entitled to notice of and to vote at such meeting such votes may be cast in person or by proxy as provided in hereof the may also have offices at such other places both within and without the of as the board of directors of the the registered office of the shall be in of'): 0.8227235674858093,\n",
       "   (35,\n",
       "    'the registration statement and prospectus the prospectus as well as subsequent registration statement on registration statement as amended on 1 the ed shall not be required to deliver the original in order to effect an exercise hereunder it is no longer practicable for the to continue to be issued in book entry form the will instruct thereof and for all other purposes and neither the nor the shall be affected by any notice to the contrary'): 0.8207772970199585,\n",
       "   (52,\n",
       "    'after maturity whether that maturity results from acceleration or otherwise interest shall to the extent permitted by applicable law accrue at interest shall accrue from the date that funds are advanced to until all sums due hereunder are paid in full spread at any time shall be conclusive absent demonstrable error spread without any further action or consent of the and the note shall be automatically deemed amended to incorporate the replacement and replacement the current index or replacement and replacement spread as applicable from upon request'): 0.8207184076309204,\n",
       "   (254,\n",
       "    'during the shall serve as the chief officer of the reporting solely and directly to the of directors of the the action permitted to be taken by the under this section 3 5 shall be in addition to and if the awards it will direct the to pay the awarded at the next payroll to occur following such determination therefore and location 1 1 position the will make any determination for clawback or recoupment in its sole discretion'): 0.8205568790435791,\n",
       "   (138,\n",
       "    'shall have the meaning set forth in the preamble and subject to the provisions of shall also include its successors and assigns obligor on the and means the and the respectively and any successor obligor upon the and respectively the or holdings and as trustee the co issuer shall have the meaning set forth in the preamble and shall also include its successors and assigns the act will be deemed to include substitute replacement or successor sections or rulesadopted by the from time to time'): 0.8201947212219238,\n",
       "   (129,\n",
       "    'if the as defined below is postponed will be postponed to the business day as defined below after the as postponed the initial is of the on the trade date the final will be of the on the agreement dated as of between the and as amended from time to time upon any selection by of successor the will cause notice to be given to the holder of this'): 0.8199434876441956,\n",
       "   (103,\n",
       "    'accordingly except as provided for by this neither nor the will be permitted to pursue court action regarding claims that are subject to arbitration effective as of the engages to serve as consultant to the and accepts such engagement during the shall provide such consulting services the consulting services as may be reasonably requested of from time to time by the except as provided by this arbitration shall be the sole exclusive and final remedy for any dispute between and the in addition the may terminate this without prior notice for'): 0.8197742700576782,\n",
       "   (93,\n",
       "    'conversion and continuation options and maximum number of tranches 4 and payment dates and fees business day day other than or on which commercial banks in benefited lender as defined in subsection as date on which the requests the to make hereunder the exercise of any by the applicable in respect of any liability of an'): 0.8171371221542358,\n",
       "   (513,\n",
       "    'the trust and together with the individual and the such meeting is held and against and not provide any written consent with respect to or for the adoption or approval of each agrees not to enter into any agreement or commitment with any the effect of which would violate or prevent impair or delay shall not limit or otherwise affect or require the individual to attempt to limit or otherwise affect each shall vote in its sole discretion on all issues other than those specified in section 1 1 or section 1 2'): 0.8168452382087708,\n",
       "   (81,\n",
       "    'as non officer employee shall perform such duties as may be reasonably requested by the chief officer or the and and collectively the parties the is entered into on the effective date by and among corporation the corporation whereas and the are parties to an employment dated as of as amended from time to time the employment shall not become director of any for profit entity without receiving the approval of of the which shall not be unreasonably withheld'): 0.8167861700057983}}]"
      ]
     },
     "execution_count": 79,
     "metadata": {},
     "output_type": "execute_result"
    }
   ],
   "source": [
    "#Run model \n",
    "build_model(test_docs, comp_docs)"
   ]
  }
 ],
 "metadata": {
  "kernelspec": {
   "display_name": "Python 3",
   "language": "python",
   "name": "python3"
  },
  "language_info": {
   "codemirror_mode": {
    "name": "ipython",
    "version": 3
   },
   "file_extension": ".py",
   "mimetype": "text/x-python",
   "name": "python",
   "nbconvert_exporter": "python",
   "pygments_lexer": "ipython3",
   "version": "3.7.4"
  }
 },
 "nbformat": 4,
 "nbformat_minor": 2
}
